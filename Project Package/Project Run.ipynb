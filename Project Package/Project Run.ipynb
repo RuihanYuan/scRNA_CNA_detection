import scanpy as sc

# Load your query dataset
adata_query = sc.read_h5ad("path_to_your_query_data.h5ad")

# (Optional) Load your reference dataset if not using the default
# adata_ref = sc.read_h5ad("path_to_your_reference_data.h5ad")

# Run the infer_cna function
disclusters, cna_summary = infer_cna(
    adata=adata_query,
    adata_ref=None,  # Use the default reference by specifying None
    overlap_threshold=0.5,
    min_cells=10,
    size_correction_weight=0.5,
    dispersion_ratio_threshold=2.0,
    min_genes=5,
    z_threshold=1.0,
    verbose=True
)

# cna_summary contains the results
print(cna_summary.head())